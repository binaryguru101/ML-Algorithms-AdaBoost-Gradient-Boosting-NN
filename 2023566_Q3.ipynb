{
 "cells": [
  {
   "cell_type": "code",
   "execution_count": 20,
   "id": "bb0a8187",
   "metadata": {},
   "outputs": [],
   "source": [
    "import numpy as np\n",
    "import matplotlib.pyplot as plt\n",
    "np.random.seed(42)\n",
    "\n",
    "def generate_dataset():\n",
    "    # Label 0: X ~ N([-1, -1], I)\n",
    "    X_class0 = np.random.multivariate_normal(mean=[-1, -1], cov=np.eye(2), size=10)\n",
    "    y_class0 = np.zeros((10, 1))\n",
    "    \n",
    "    # Label 1: X ~ N([1, 1], I)\n",
    "    X_class1 = np.random.multivariate_normal(mean=[1, 1], cov=np.eye(2), size=10)\n",
    "    y_class1 = np.ones((10, 1))\n",
    "    \n",
    "    \n",
    "    X = np.vstack((X_class0, X_class1))\n",
    "    y = np.vstack((y_class0, y_class1))\n",
    "    \n",
    " \n",
    "    indices = np.random.permutation(X.shape[0])\n",
    "    X = X[indices]\n",
    "    y = y[indices]\n",
    "    \n",
    "    \n",
    "    train_size = X.shape[0] // 2\n",
    "    X_train, X_test = X[:train_size], X[train_size:]\n",
    "    y_train, y_test = y[:train_size], y[train_size:]\n",
    "    \n",
    "    return X_train, y_train, X_test, y_test\n"
   ]
  },
  {
   "cell_type": "code",
   "execution_count": 21,
   "id": "ce6c3fcd",
   "metadata": {},
   "outputs": [],
   "source": [
    "\n",
    "def sigmoid(x):\n",
    "    return 1 / (1 + np.exp(-x))\n"
   ]
  },
  {
   "cell_type": "code",
   "execution_count": 22,
   "id": "1b788458",
   "metadata": {},
   "outputs": [],
   "source": [
    "X_train, y_train, X_test, y_test=generate_dataset()\n",
    "\n",
    "# Initialize parameters \n",
    "w1 = np.random.randn(2, 1) * 0.01 \n",
    "b1 = np.zeros((1, 1))                \n",
    "w2 = np.random.randn(1, 1) * 0.01  \n",
    "b2 = np.zeros((1, 1))           \n",
    "\n",
    "# Learning rate and number of epochs are fixed (0.1, 1000 cycles).\n",
    "p = 0.1      \n",
    "epochs = 1000\n",
    "loss_history = []\n"
   ]
  },
  {
   "cell_type": "code",
   "execution_count": 23,
   "id": "0249b637",
   "metadata": {},
   "outputs": [],
   "source": [
    "def MSE(y_pred, y_train):\n",
    "    loss = np.mean((y_pred - y_train)**2)\n",
    "    loss_history.append(loss)\n",
    "    return loss"
   ]
  },
  {
   "cell_type": "code",
   "execution_count": 24,
   "id": "b1727d94",
   "metadata": {},
   "outputs": [],
   "source": [
    "m = X_train.shape[0]\n",
    "\n",
    "for i in range(epochs):\n",
    "    # Forward pass\n",
    "    z1 = X_train.dot(w1) + b1       \n",
    "    a1 = sigmoid(z1)                \n",
    "    z2 = a1.dot(w2) + b2            \n",
    "    y_pred = z2                   \n",
    "\n",
    "    # MSE loss\n",
    "    loss = MSE(y_pred, y_train)\n",
    "\n",
    "    # Backprop\n",
    "    delta_k = (2/m) * (y_pred - y_train)      \n",
    "    dw2 = a1.T.dot(delta_k)                   \n",
    "    db2 = np.sum(delta_k, keepdims=True)      \n",
    "\n",
    "    da1 = delta_k.dot(w2.T)                \n",
    "    delta_j = da1 * (a1)*(1-a1)            # a1*(1-a1) => derivative of sigmoid\n",
    "\n",
    "    dw1 = X_train.T.dot(delta_j)              \n",
    "    db1 = np.sum(delta_j, keepdims=True)      \n",
    "\n",
    "    # Gradient descent\n",
    "    w2 -= p * dw2\n",
    "    w1 -= p * dw1\n",
    "    b2 -= p * db2\n",
    "    b1 -= p * db1\n"
   ]
  },
  {
   "cell_type": "code",
   "execution_count": 25,
   "id": "5e611c1e",
   "metadata": {},
   "outputs": [
    {
     "data": {
      "image/png": "[encoded data removed]",
      "text/plain": [
       "<Figure size 640x480 with 1 Axes>"
      ]
     },
     "metadata": {},
     "output_type": "display_data"
    },
    {
     "name": "stdout",
     "output_type": "stream",
     "text": [
      "Test MSE: 0.13039\n"
     ]
    }
   ],
   "source": [
    "plt.plot(loss_history)\n",
    "plt.xlabel('Iteration')\n",
    "plt.ylabel('MSE Loss')\n",
    "plt.title('Training Loss')\n",
    "plt.show()\n",
    "\n",
    "# 7) Evaluate test MSE\n",
    "z1_t = X_test.dot(w1) + b1\n",
    "a1_t = sigmoid(z1_t)\n",
    "z2_t = a1_t.dot(w2) + b2\n",
    "y_test_pred = z2_t\n",
    "test_mse = np.mean((y_test_pred - y_test)**2)\n",
    "print(f\"Test MSE: {test_mse:.5f}\")"
   ]
  },
  {
   "cell_type": "code",
   "execution_count": null,
   "id": "541f1a5f",
   "metadata": {},
   "outputs": [],
   "source": []
  }
 ],
 "metadata": {
  "kernelspec": {
   "display_name": "Python 3",
   "language": "python",
   "name": "python3"
  },
  "language_info": {
   "codemirror_mode": {
    "name": "ipython",
    "version": 3
   },
   "file_extension": ".py",
   "mimetype": "text/x-python",
   "name": "python",
   "nbconvert_exporter": "python",
   "pygments_lexer": "ipython3",
   "version": "3.11.9"
  }
 },
 "nbformat": 4,
 "nbformat_minor": 5
}
